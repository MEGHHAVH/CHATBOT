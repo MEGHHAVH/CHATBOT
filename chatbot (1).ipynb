{
 "cells": [
  {
   "cell_type": "code",
   "execution_count": null,
   "id": "8241b0fe",
   "metadata": {},
   "outputs": [],
   "source": [
    "import nltk\n",
    "from nltk.chat.util import Chat, reflections\n",
    "patterns = [\n",
    "   \n",
    "    (r\"hello\":, [\"Hi there!\", \"Hello!\", \"Hey!\"]),\n",
    "    (r\"how are you\": ,[\"I'm good, thanks!\", \"I'm doing well, how about you?\", \"Not too bad.\"]),\n",
    "    (r\"information about SKIT\":,[\"SKIT means sri krishna institute of technology\"]),\n",
    "    (r\"where it is located\":,[\"chimny hills hesarghatta main road bangalore north\"]),\n",
    "    (r\"what are the courses available here\":,[\"aiml\",\"cse\",\"ise\",\"ece\"]),\n",
    "    (r\"about faculty \":,[\"exellent teaching and very supportive nature\"]),\n",
    "    (r\"bye\":, [\"Goodbye!\", \"See you later!\", \"Bye!\"]),\n",
    "      \n",
    "]\n",
    "\n",
    "chatbot = Chat(patterns, reflections)\n",
    "\n",
    "print(\"Hello! I'm a simple chatbot. You can start chatting with me. Type 'bye' to exit.\")\n",
    "while True:\n",
    "    user_input = input(\"You: \")\n",
    "    if user_input.lower() == 'bye':\n",
    "        print(\"Chatbot: Goodbye! Have a great day.\")\n",
    "        break\n",
    "    else:\n",
    "        response = chatbot.respond(user_input)\n",
    "        print(\"Chatbot:\", response)"
   ]
  },
  {
   "cell_type": "code",
   "execution_count": null,
   "id": "bc7e884e",
   "metadata": {},
   "outputs": [],
   "source": []
  },
  {
   "cell_type": "code",
   "execution_count": null,
   "id": "fbc95ef6",
   "metadata": {},
   "outputs": [],
   "source": []
  },
  {
   "cell_type": "code",
   "execution_count": null,
   "id": "b6e20e94",
   "metadata": {},
   "outputs": [],
   "source": [
    "\n"
   ]
  },
  {
   "cell_type": "code",
   "execution_count": null,
   "id": "8b045803",
   "metadata": {},
   "outputs": [],
   "source": []
  },
  {
   "cell_type": "code",
   "execution_count": null,
   "id": "264d1718",
   "metadata": {},
   "outputs": [],
   "source": [
    "\n"
   ]
  }
 ],
 "metadata": {
  "kernelspec": {
   "display_name": "Python 3 (ipykernel)",
   "language": "python",
   "name": "python3"
  },
  "language_info": {
   "codemirror_mode": {
    "name": "ipython",
    "version": 3
   },
   "file_extension": ".py",
   "mimetype": "text/x-python",
   "name": "python",
   "nbconvert_exporter": "python",
   "pygments_lexer": "ipython3",
   "version": "3.11.5"
  }
 },
 "nbformat": 4,
 "nbformat_minor": 5
}
